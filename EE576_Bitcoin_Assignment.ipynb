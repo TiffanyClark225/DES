{
  "nbformat": 4,
  "nbformat_minor": 0,
  "metadata": {
    "colab": {
      "provenance": [],
      "include_colab_link": true
    },
    "kernelspec": {
      "name": "python3",
      "display_name": "Python 3"
    }
  },
  "cells": [
    {
      "cell_type": "markdown",
      "metadata": {
        "id": "view-in-github",
        "colab_type": "text"
      },
      "source": [
        "<a href=\"https://colab.research.google.com/github/TiffanyClark225/DES/blob/master/EE576_Bitcoin_Assignment.ipynb\" target=\"_parent\"><img src=\"https://colab.research.google.com/assets/colab-badge.svg\" alt=\"Open In Colab\"/></a>"
      ]
    },
    {
      "cell_type": "markdown",
      "metadata": {
        "id": "f6i_7uHwMmvf"
      },
      "source": [
        "The goal of this assignment is to help you to learn Bitcoin Script in writing basic transactions and simple smart contracts. This assignment is based on a similar assignment from a graduate-level course on bitcoin and cryptocurrencies at Stanford University.\n",
        "\n",
        "\n",
        "You should be familiar with Bitcoin script. Its basic structure was covered in class and chapter 3 of the book “[Bitcoin and Cryptocurrency Technologies](https://d28rh4a8wq0iu5.cloudfront.net/bitcointech/readings/princeton_bitcoin_book.pdf)”. Examples of some opcodes that you will likely be making use of include OP DUP, OP CHECKSIG, OP EQUALVERIFY, and OP CHECKMULTISIG, but you will end up using additional ones as well. Full documentation can be found [here](https://en.bitcoin.it/wiki/Script)."
      ]
    },
    {
      "cell_type": "markdown",
      "metadata": {
        "id": "WZnGrMNz7B28"
      },
      "source": [
        "## Setup the environments"
      ]
    },
    {
      "cell_type": "code",
      "metadata": {
        "id": "IkHKAVBpOhfV"
      },
      "source": [
        "#@title Download the libraries\n",
        "\n",
        "!pip install python-bitcoinlib\n",
        "!pip install forex-python"
      ],
      "execution_count": null,
      "outputs": []
    },
    {
      "cell_type": "code",
      "metadata": {
        "id": "XLS70_sAPSUF"
      },
      "source": [
        "#@title Setup our environment to use Bitcoin Testnet { form-width: \"30%\" }\n",
        "import requests\n",
        "from os import urandom\n",
        "from bitcoin import SelectParams\n",
        "from bitcoin.core import b2x, lx, COIN, COutPoint, CMutableTxOut, CMutableTxIn, CMutableTransaction, Hash160\n",
        "from bitcoin.core.script import *\n",
        "from bitcoin.base58 import decode\n",
        "from bitcoin.wallet import CBitcoinAddress, CBitcoinSecret, P2PKHBitcoinAddress\n",
        "from bitcoin.core.scripteval import VerifyScript, SCRIPT_VERIFY_P2SH\n",
        "\n",
        "SelectParams('testnet')\n",
        "print(\"Testnet selected.\")"
      ],
      "execution_count": null,
      "outputs": []
    },
    {
      "cell_type": "markdown",
      "metadata": {
        "id": "yfV1KWRXKG_b"
      },
      "source": [
        "### To do (you can put your answers right here):\n",
        "\n",
        "\n",
        "1.   Explain how the private key and addresses are used in Bitcoin. How do you know that this is an address for the Testnet blockchain but not the production Bitcoin block chain?\n",
        "2.   Modify the code below so that you can reuse your private key.\n",
        "3.   Go to a <a href=\"https://coinfaucet.eu/en/btc-testnet/\">Testnet Faucet</a>, paste in your address to get some \"free\" money! We are going to spend this money in a while so we are going to call this unspent transaction output (UTXO). Find out the transaction ID, amount, and ```utxo_txid_index``` in the code below. What is the transaction fee, if any?\n",
        "4.   If the bitcoin comes from the real Bitcoin network, how much money (USD) would you have received?\n"
      ]
    },
    {
      "cell_type": "markdown",
      "metadata": {
        "id": "cE0FbI_to_3f"
      },
      "source": [
        "-- Put your answer here --"
      ]
    },
    {
      "cell_type": "code",
      "metadata": {
        "id": "cwfNqjK9OfFH"
      },
      "source": [
        "## Question 2: modify the code so that you can reuse your private key (and hence your public key)\n",
        "my_private_key = CBitcoinSecret.from_secret_bytes(urandom(32))\n",
        "my_public_key  = my_private_key.pub\n",
        "my_address     = P2PKHBitcoinAddress.from_pubkey(my_public_key)\n",
        "print(\"My bitcoin address is %s\" % my_address)"
      ],
      "execution_count": null,
      "outputs": []
    },
    {
      "cell_type": "code",
      "metadata": {
        "id": "a2Z0sOWqzpj5"
      },
      "source": [
        "## Questions 3 and 4\n",
        "## To Do: Put in your transaction ID and amounts in the next two lines\n",
        "utxo_amount     = 0.01463481\n",
        "utxo_txid       = 'bf173dd728237d8a1a395048fb54a00b1a92e1c661ec9702d2554b5bc01fef09'\n",
        "\n",
        "# Figure out how to use BtcConverter to determine the value of bitcoin\n",
        "from forex_python.bitcoin import BtcConverter\n",
        "b = BtcConverter()\n",
        "print(\"If it was real bitcoin, you would be USD$%s richer!\" % \"0\")\n",
        "\n",
        "## To Do: Click on the transaction id to go to the block explorer. Scroll down to the details\n",
        "## of the transaction and you should see two outputs. One output goes to you and the unspent\n",
        "## output goes back to the faucet. If your output comes first, put in 0 below and 1 otherwise.\n",
        "utxo_txid_index = 1"
      ],
      "execution_count": null,
      "outputs": []
    },
    {
      "cell_type": "markdown",
      "metadata": {
        "id": "8EdnW7_BM0MT"
      },
      "source": [
        "## Task 1. Direct Transfer Transaction\n",
        "\n",
        "The first task is for you to transfer your bitcoins to another person. Every bitcoin transaction has an input and an output. The input is the reference transaction that indicates the source of the fund. In this case, this is the transaction ```utxo_txid``` where Testnet has created the UTXO for you.\n",
        "\n",
        "There are two parts of the output. First, you need to unlock the UTXO from Testnet using an unlocking script or scriptSig. In this case, you need to match the public key hash and also sign with your private key. This kind of thing is done a lot in Bitcoin and the script used in this case is called pay-to-public-key-hash script.\n",
        "\n",
        "Second, you need to set up the condition so that the intended recipient of your fund can unlock it. This part is called the scriptPubKey. To facilitate the redemption of the fund, you can also put the pay-to-public-key-hash script here as well so the recipient can easily redeem this by signing it off with his/her private key."
      ]
    },
    {
      "cell_type": "code",
      "metadata": {
        "id": "v0bGeZMmNhg6"
      },
      "source": [
        "#@title Define the transaction amount { form-width: \"30%\" }\n",
        "\n",
        "output_amount = utxo_amount - 0.001\n",
        "print(\"Give away %f BTC but leave %f BTC as transaction fee.\" % (output_amount, utxo_amount-output_amount))"
      ],
      "execution_count": null,
      "outputs": []
    },
    {
      "cell_type": "markdown",
      "metadata": {
        "id": "iEoEldMkbcyj"
      },
      "source": [
        "### To do:\n",
        "\n",
        "1.   Send the bitcoin to your partner\n",
        "2.   Explain in your own words what pay-to-public-key-hash works\n",
        "3.   If all goes well, write down the transaction ID.\n",
        "4.   Copy and paste it to the block explorer and check if everything goes through.\n",
        "\n"
      ]
    },
    {
      "cell_type": "code",
      "metadata": {
        "id": "UPqxAX7KODYM"
      },
      "source": [
        "#@title Definition of ```scriptPubKey``` { form-width: \"30%\" }\n",
        "\n",
        "# To do: define recipient_address as your partner's address. Hint: use function CBitcoinAddress\n",
        "# recipient_address = ...\n",
        "\n",
        "# pay-to-public-key-hash - this was explained in class\n",
        "scriptPubKey   = [OP_DUP, OP_HASH160, recipient_address, OP_EQUALVERIFY, OP_CHECKSIG]\n",
        "\n",
        "txout          = CMutableTxOut(output_amount*COIN, CScript(scriptPubKey))\n",
        "print(\"Output looks like this : %s\" % txout)"
      ],
      "execution_count": null,
      "outputs": []
    },
    {
      "cell_type": "code",
      "metadata": {
        "id": "aJIPWj-AOdva"
      },
      "source": [
        "#@title Link to the reference transaction where the source fund is { form-width: \"30%\" }\n",
        "txin = CMutableTxIn(COutPoint(lx(utxo_txid), utxo_txid_index))\n",
        "print(\"It's not complete as the script part is empty: %s\" % txin)"
      ],
      "execution_count": null,
      "outputs": []
    },
    {
      "cell_type": "code",
      "metadata": {
        "id": "zXGKSUNNPNkK"
      },
      "source": [
        "#@title Definition of \"scriptSig\" to unlock the reference transaction { form-width: \"30%\" }\n",
        "\n",
        "# another pay-to-public-key-hash but this time it uses your own address\n",
        "# Note that this script should match exactly the script PubKey from the testnet - this\n",
        "# script is NOT part of what you post but you need to sign it for redemption\n",
        "utxo_scriptPubKey = [OP_DUP, OP_HASH160, my_address, OP_EQUALVERIFY, OP_CHECKSIG]\n",
        "\n",
        "# sign the whole transaction\n",
        "tx_tmp         = CMutableTransaction([txin], [txout])\n",
        "sighash        = SignatureHash(CScript(utxo_scriptPubKey), tx_tmp, 0, SIGHASH_ALL)\n",
        "signature      = my_private_key.sign(sighash) + bytes([SIGHASH_ALL])\n",
        "tx             = CMutableTransaction([txin], [txout])\n",
        "txin.scriptSig = CScript([signature, my_public_key])\n",
        "try:\n",
        "  # VerifyScript checks if txin.scriptSign can redeem utxo_scriptPubKey\n",
        "  VerifyScript(txin.scriptSig, CScript(utxo_scriptPubKey), tx, 0, (SCRIPT_VERIFY_P2SH,))\n",
        "  print(\"Script looks good, ready to go!\")\n",
        "except Exception:\n",
        "  traceback.print_exc()\n"
      ],
      "execution_count": null,
      "outputs": []
    },
    {
      "cell_type": "code",
      "metadata": {
        "id": "u-3-tnTkQSeq"
      },
      "source": [
        "#@title Post it to Testnet and see what happen\n",
        "raw_transaction = b2x(tx.serialize())\n",
        "headers         = {'content-type': 'application/x-www-form-urlencoded'}\n",
        "response        = requests.post('https://api.blockcypher.com/v1/btc/test3/txs/push',\n",
        "                                headers=headers,\n",
        "                                data='{\"tx\": \"%s\"}' % raw_transaction)\n",
        "print(response.status_code, response.reason)\n",
        "print(response.text)"
      ],
      "execution_count": null,
      "outputs": []
    },
    {
      "cell_type": "markdown",
      "metadata": {
        "id": "MsLbx5D_eVpH"
      },
      "source": [
        "## Task 2. Smart Contract 1\n",
        "\n",
        "Generate a transaction so that your partner will give the bitcoin to whoever can provide the solution $(x,y)$ to the following system of two linear equations:\n",
        "   \n",
        "   $x + y =$ first 2 digits of the larger student id in your team\n",
        "\n",
        "and\n",
        "\n",
        "   $x - y =$ first 2 digits of the smaller student id in your team\n",
        "\n",
        "To ensure that an integer solution exists, please change the last digit of the two numbers on the right hand side so the numbers are both even or both odd.\n",
        "\n",
        "Demonstrate your solution by developing the redemption script and get all the bitcoins back yourself. The redemption script should be as small as possible. That is, a valid script-sig should consist of simply pushing two integers $x$ and $y$ to the stack.\n",
        "\n",
        "Hint: Make sure you use ```OP_ADD``` and ```OP_SUB``` in your script.\n"
      ]
    },
    {
      "cell_type": "code",
      "metadata": {
        "id": "lQKWUyc0ecd2"
      },
      "source": [
        "# Input Script - get the bitcoin from your partner and give it to whoever can solve the problem\n",
        "# Your code is below\n",
        "\n",
        "# Step 0. Let's assume\n",
        "xPlusy  = 890\n",
        "xMinusy = 630\n",
        "\n",
        "# Step 1. Define utxo_amount, utxo_txid, utxo_txid_index, and output_amount as in the example\n",
        "\n",
        "# Step 2. sm1_scriptPubKey contains the actual contract based on Bitcoin Script\n",
        "sm1_scriptPubKey = []\n",
        "\n",
        "# Step 3. Formulate the transaction (no need to change)\n",
        "txout             = CMutableTxOut(output_amount*COIN, CScript(sm1_scriptPubKey))\n",
        "txin              = CMutableTxIn(COutPoint(lx(utxo_txid), utxo_txid_index))\n",
        "tx                = CMutableTransaction([txin], [txout])\n",
        "\n",
        "# Step 4. Another pay-to-public-key-hash but this time, replace @@@@@ with your partner address\n",
        "utxo_scriptPubKey = [OP_DUP, OP_HASH160, @@@@@, OP_EQUALVERIFY, OP_CHECKSIG]\n",
        "\n",
        "# Step 5. Follow the previous example but make sure to use your partner's private key to sign for it.\n",
        "\n",
        "# Step 6. Verify before posting\n",
        "\n",
        "# Step 7. Posting\n",
        "\n"
      ],
      "execution_count": null,
      "outputs": []
    },
    {
      "cell_type": "code",
      "metadata": {
        "id": "e8muam6ULru3"
      },
      "source": [
        "# Redemption Script - solve the problem by providing x and y, and then transfer the bitcoin back to yourself.\n",
        "# Your code is below\n",
        "\n",
        "# Step 0. What are x and y? Make sure that the order matches your sm1_scriptPubKey\n",
        "\n",
        "# Step 1. Define utxo_amount, utxo_txid, utxo_txid_index, and output_amount as in the example\n",
        "\n",
        "# Step 2. Script PubKey is similar to the previous example as you are getting back the bitcoins yourself\n",
        "\n",
        "# Step 3. utxo_scriptPubKey contains the script to satisfy sm1_scriptPubKey\n",
        "utxo_scriptPubKey = []\n",
        "\n",
        "# Step 4. No need to sign for this transaction as anybody can solve and get the bitcoin (No need to change)\n",
        "tx                = CMutableTransaction([txin], [txout])\n",
        "txin.scriptSig    = CScript(utxo_scriptPubKey)\n",
        "\n",
        "# Step 5. VerifyScript needs sm1_scriptPubKey to check everything is okay before posting (No need to change)\n",
        "try:\n",
        "  VerifyScript(txin.scriptSig, CScript(sm1_scriptPubKey), tx, 0, (SCRIPT_VERIFY_P2SH,))\n",
        "  print(\"Script looks good, ready to go!\")\n",
        "except Exception:\n",
        "  traceback.print_exc()\n",
        "\n",
        "# Step 6. Posting"
      ],
      "execution_count": null,
      "outputs": []
    },
    {
      "cell_type": "markdown",
      "metadata": {
        "id": "BmAFJdBukSx0"
      },
      "source": [
        "## Task 3. Smart Contract 2\n",
        "\n",
        "Generate a multi-sig transaction involving four parties such that the transaction can be redeemed by the first party (your partner) combined with any one of the 3 people (customers) created by you but not by only the customers or only your partner.\n",
        "\n",
        "Demonstrate your work by writing a redemption script so that your partner can get back your bitcoins and make sure that the script is as small as possible. You can use any legal combination of signatures to redeem the transaction but make sure that all combinations would have worked."
      ]
    },
    {
      "cell_type": "code",
      "metadata": {
        "id": "Dv0XFUcHkQTI"
      },
      "source": [
        "# Create three customer's keys\n",
        "# Your code"
      ],
      "execution_count": null,
      "outputs": []
    },
    {
      "cell_type": "code",
      "metadata": {
        "id": "1-qMfdvu7nG2"
      },
      "source": [
        "# Input script - setup the contract to require the signature of your partner and at least one of the three addresses you just created.\n",
        "# Your code"
      ],
      "execution_count": null,
      "outputs": []
    },
    {
      "cell_type": "code",
      "metadata": {
        "id": "ckxQs_lQ7sIc"
      },
      "source": [
        "# Redemption Script - your partner and one of the customers must sign.\n",
        "# Your code"
      ],
      "execution_count": null,
      "outputs": []
    }
  ]
}